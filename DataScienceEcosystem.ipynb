{
 "cells": [
  {
   "cell_type": "markdown",
   "id": "60144c9f-5077-4021-b590-52cf05f05f31",
   "metadata": {
    "panel-layout": {
     "height": 50.8125,
     "visible": true,
     "width": 100
    }
   },
   "source": [
    "# Data Science Tools and Ecosystem"
   ]
  },
  {
   "cell_type": "markdown",
   "id": "ed09653f-5c1d-4169-87ee-b38aa0b4f888",
   "metadata": {
    "jp-MarkdownHeadingCollapsed": true,
    "panel-layout": {
     "height": 50.8125,
     "visible": true,
     "width": 100
    }
   },
   "source": [
    "In this notebook, Data Science Tools and Ecosystem are summarized."
   ]
  },
  {
   "cell_type": "markdown",
   "id": "f9a12808-8570-4f63-a3a5-d94e09134934",
   "metadata": {
    "jp-MarkdownHeadingCollapsed": true,
    "panel-layout": {
     "height": 50.8125,
     "visible": true,
     "width": 100
    }
   },
   "source": [
    "Objectives:\n",
    "1. List popular languages for Data Science\n",
    "2. List some of the commonly used libraries by Data Scientists\n",
    "3. List some of the tools used by Data Scientists"
   ]
  },
  {
   "cell_type": "markdown",
   "id": "188b4425-6f08-4318-9b7b-daa627b5f8e4",
   "metadata": {
    "panel-layout": {
     "height": 50.8125,
     "visible": true,
     "width": 100
    }
   },
   "source": [
    "Some of the popular languages that Data Scientists use are:\n",
    "1. Python\n",
    "2. R\n",
    "3. SQL\n",
    "4. Julia\n",
    "5. Scala"
   ]
  },
  {
   "cell_type": "markdown",
   "id": "d10fa21e-76d4-4526-9b29-131627b53417",
   "metadata": {
    "panel-layout": {
     "height": 114.55,
     "visible": true,
     "width": 100
    }
   },
   "source": [
    "Some of the commonly used libraries used by Data Scientists include:\n",
    "1. Pandas\n",
    "2. Numpy\n",
    "3. Matplotlib"
   ]
  },
  {
   "cell_type": "markdown",
   "id": "22f9c453-4933-4fdf-b17a-c1b3cca480a2",
   "metadata": {
    "panel-layout": {
     "height": 122.55,
     "visible": true,
     "width": 100
    }
   },
   "source": [
    "<style>\n",
    "    table {\n",
    "        text-align: left;\n",
    "    }\n",
    "</style>\n",
    "| Data Science Tools|\n",
    "|----------|\n",
    "| Visual Studio Code |\n",
    "| Jupyter Notebook |\n",
    "| RStudio |"
   ]
  },
  {
   "cell_type": "markdown",
   "id": "ab40a23e-fc75-49c7-810d-0b0bc0a74b10",
   "metadata": {
    "panel-layout": {
     "height": 44.075,
     "visible": true,
     "width": 100
    }
   },
   "source": [
    "### Below are a few examples of evaluating arithmetic expressions in Python"
   ]
  },
  {
   "cell_type": "code",
   "execution_count": 15,
   "id": "52197835-436b-4039-ab20-8d487f6ae743",
   "metadata": {
    "panel-layout": {
     "height": 27.1375,
     "visible": true,
     "width": 100
    }
   },
   "outputs": [
    {
     "data": {
      "text/plain": [
       "17"
      ]
     },
     "execution_count": 15,
     "metadata": {},
     "output_type": "execute_result"
    }
   ],
   "source": [
    " # This a simple arithmetic expression to mutiply then add integers\n",
    "(3*4)+5"
   ]
  },
  {
   "cell_type": "code",
   "execution_count": 18,
   "id": "b602f24d-c980-4b9c-ac82-8480f5f89a4e",
   "metadata": {
    "panel-layout": {
     "height": 27.1375,
     "visible": true,
     "width": 100
    }
   },
   "outputs": [
    {
     "data": {
      "text/plain": [
       "3.3333333333333335"
      ]
     },
     "execution_count": 18,
     "metadata": {},
     "output_type": "execute_result"
    }
   ],
   "source": [
    "# This will convert 200 minutes to hours by diving by 60\n",
    "200/60"
   ]
  },
  {
   "cell_type": "markdown",
   "id": "8b4c355f-a431-411f-8ef0-1f8fb10396ba",
   "metadata": {
    "panel-layout": {
     "height": 84.4,
     "visible": true,
     "width": 100
    }
   },
   "source": [
    "## Author\n",
    "Edgar Medina"
   ]
  },
  {
   "cell_type": "code",
   "execution_count": null,
   "id": "627ec9a6-c1e9-4a1a-be75-e46ac6d06ffd",
   "metadata": {},
   "outputs": [],
   "source": []
  }
 ],
 "metadata": {
  "kernelspec": {
   "display_name": "Python [conda env:base] *",
   "language": "python",
   "name": "conda-base-py"
  },
  "language_info": {
   "codemirror_mode": {
    "name": "ipython",
    "version": 3
   },
   "file_extension": ".py",
   "mimetype": "text/x-python",
   "name": "python",
   "nbconvert_exporter": "python",
   "pygments_lexer": "ipython3",
   "version": "3.12.7"
  },
  "panel-cell-order": [
   "60144c9f-5077-4021-b590-52cf05f05f31",
   "ed09653f-5c1d-4169-87ee-b38aa0b4f888",
   "f9a12808-8570-4f63-a3a5-d94e09134934",
   "188b4425-6f08-4318-9b7b-daa627b5f8e4",
   "d10fa21e-76d4-4526-9b29-131627b53417",
   "22f9c453-4933-4fdf-b17a-c1b3cca480a2",
   "ab40a23e-fc75-49c7-810d-0b0bc0a74b10",
   "52197835-436b-4039-ab20-8d487f6ae743",
   "b602f24d-c980-4b9c-ac82-8480f5f89a4e",
   "8b4c355f-a431-411f-8ef0-1f8fb10396ba"
  ]
 },
 "nbformat": 4,
 "nbformat_minor": 5
}
